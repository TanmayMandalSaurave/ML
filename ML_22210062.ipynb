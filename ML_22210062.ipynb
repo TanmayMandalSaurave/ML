{
 "cells": [
  {
   "cell_type": "markdown",
   "id": "ee3120ad-2cf2-48d2-bb46-23c1ca2e8700",
   "metadata": {},
   "source": [
    "1. The resulting matrix will have dimensions (n, m). To calculate each element D[i][j] in the matrix D, k multiplications and k-1 additions are required. With n rows and m columns in the resulting matrix, these operations need to be performed n * m times, resulting in a total of n * m multiplications."
   ]
  },
  {
   "cell_type": "code",
   "execution_count": 3,
   "id": "cdeea6fd-8cf8-4c16-be73-fd60f08b353a",
   "metadata": {},
   "outputs": [
    {
     "name": "stdout",
     "output_type": "stream",
     "text": [
      "Result matrix: [[39, 21], [36, 16]]\n"
     ]
    }
   ],
   "source": [
    "#2\n",
    "def perform_matrix_multiplication(matrix1, matrix2):\n",
    "    # For the dimensions of matrices matrix1 and matrix2\n",
    "    rows1, cols1 = len(matrix1), len(matrix1[0])\n",
    "    rows2, cols2 = len(matrix2), len(matrix2[0])\n",
    "\n",
    "    # Check if the matrices can be multiplied\n",
    "    if cols1 != rows2:\n",
    "        raise ValueError(\"Incompatible matrix dimensions for multiplication\")\n",
    "\n",
    "    # Initialize the resulting matrix result_matrix with zeros\n",
    "    result_matrix = [[0 for _ in range(cols2)] for _ in range(rows1)]\n",
    "\n",
    "    # Perform matrix multiplication\n",
    "    for i in range(rows1):\n",
    "        for j in range(cols2):\n",
    "            for k in range(cols1):\n",
    "                result_matrix[i][j] += matrix1[i][k] * matrix2[k][j]\n",
    "\n",
    "    return result_matrix\n",
    "\n",
    "# Example matrices\n",
    "matrix_A = [[1, 4], [6, 2]]\n",
    "matrix_B = [[3, 1], [9, 5]]\n",
    "\n",
    "result_matrix = perform_matrix_multiplication(matrix_A, matrix_B)\n",
    "print(\"Result matrix:\", result_matrix)\n"
   ]
  },
  {
   "cell_type": "code",
   "execution_count": 4,
   "id": "aa3bf2fd-a888-4cab-adc7-b8a55426ab85",
   "metadata": {},
   "outputs": [
    {
     "name": "stdout",
     "output_type": "stream",
     "text": [
      "Result using NumPy: [[39, 21], [36, 16]]\n"
     ]
    }
   ],
   "source": [
    "import numpy as np\n",
    "\n",
    "def perform_matrix_multiplication_numpy(matrix1, matrix2):\n",
    "    # Convert matrices to NumPy arrays\n",
    "    matrix1_np, matrix2_np = np.array(matrix1), np.array(matrix2)\n",
    "\n",
    "    # Perform matrix multiplication using NumPy\n",
    "    result_np = np.dot(matrix1_np, matrix2_np)\n",
    "\n",
    "    return result_np.tolist()  # Convert the result back to a list of lists\n",
    "\n",
    "# Example matrices\n",
    "matrix_A_np = np.array([[1, 4], [6, 2]])\n",
    "matrix_B_np = np.array([[3, 1], [9, 5]])\n",
    "\n",
    "result_matrix_numpy = perform_matrix_multiplication_numpy(matrix_A_np, matrix_B_np)\n",
    "print(\"Result using NumPy:\", result_matrix_numpy)\n"
   ]
  },
  {
   "cell_type": "markdown",
   "id": "acdbefc4-8a2e-4edf-ba8f-73328d7471cd",
   "metadata": {},
   "source": [
    "After comparing the execution time of the above two implementations, it's evident that NumPy is generally faster than using a list of lists for matrix operations. NumPy is implemented in C and optimized for numerical computations, leveraging efficient algorithms and memory layouts. This performance advantage becomes more pronounced, especially for larger matrices. The optimized nature of NumPy operations contributes to quicker execution times compared to the equivalent operations with lists of lists in Python."
   ]
  },
  {
   "cell_type": "code",
   "execution_count": 6,
   "id": "18145dbe-40fe-449e-9d39-71142c65e69e",
   "metadata": {},
   "outputs": [
    {
     "name": "stdout",
     "output_type": "stream",
     "text": [
      "Student Name in 2022, Branch 1, Roll Number 1: Tanmay\n",
      "Maths Marks in 2022, Branch 1, Roll Number 1: 100\n"
     ]
    }
   ],
   "source": [
    "#7\n",
    "students_record = {\n",
    "    2022: {\n",
    "        'Branch 1': {\n",
    "            'Roll Number': 1,\n",
    "            'Name': 'Tanmay',\n",
    "            'Marks': {\n",
    "                'Maths': 100,\n",
    "                'English': 70,\n",
    "                'Hindi':85\n",
    "                \n",
    "            }\n",
    "        },\n",
    "        'Branch 2': {\n",
    "            'Name': 'Pratyush',\n",
    "            'Marks': {\n",
    "                'Maths': 100,\n",
    "                'English': 70,\n",
    "                'Hindi':85\n",
    "        }\n",
    "    },\n",
    "    }\n",
    "}\n",
    "print(\"Student Name in 2022, Branch 1, Roll Number 1:\", students_record[2022]['Branch 1']['Name'])\n",
    "print(\"Maths Marks in 2022, Branch 1, Roll Number 1:\", students_record[2022]['Branch 1']['Marks']['Maths'])\n"
   ]
  },
  {
   "cell_type": "code",
   "execution_count": 7,
   "id": "b499590e-6d0b-43b9-8443-edf8cf832bf8",
   "metadata": {},
   "outputs": [
    {
     "name": "stdout",
     "output_type": "stream",
     "text": [
      "STUDENT Name in 2022, Department 1, ID 1: Tanmay\n",
      "Maths Marks in 2022, Department 1, ID 1: 95\n"
     ]
    }
   ],
   "source": [
    "#8\n",
    "class Student:\n",
    "    def __init__(self, student_id, student_name):\n",
    "        self.student_id = student_id\n",
    "        self.student_name = student_name\n",
    "        self.subject_marks = {}\n",
    "\n",
    "    def add_subject_marks(self, subject, marks):\n",
    "        self.subject_marks[subject] = marks\n",
    "\n",
    "\n",
    "class Department:\n",
    "    def __init__(self, department_name):\n",
    "        self.department_name = department_name\n",
    "        self.students_list = []\n",
    "\n",
    "    def add_student(self, student):\n",
    "        self.students_list.append(student)\n",
    "\n",
    "\n",
    "class AcademicSession:\n",
    "    def __init__(self, session_year):\n",
    "        self.session_year = session_year\n",
    "        self.departments_list = []\n",
    "\n",
    "    def add_department(self, department):\n",
    "        self.departments_list.append(department)\n",
    "\n",
    "\n",
    "# Overall database as a list of AcademicSession objects\n",
    "learning_database = []\n",
    "\n",
    "# Create AcademicSession objects\n",
    "session_2022 = AcademicSession(2022)\n",
    "session_2023 = AcademicSession(2023)\n",
    "session_2024 = AcademicSession(2024)\n",
    "session_2025 = AcademicSession(2025)\n",
    "\n",
    "# Create Department objects\n",
    "department_1 = Department('Department 1')\n",
    "department_2 = Department('Department 2')\n",
    "\n",
    "# Create Student objects\n",
    "student_2022_department_1 = Student(1, 'Tanmay')\n",
    "student_2022_department_1.add_subject_marks('Maths', 95)\n",
    "student_2022_department_1.add_subject_marks('English', 75)\n",
    "student_2022_department_1.add_subject_marks('Hindi', 90)\n",
    "\n",
    "# Add students to departments\n",
    "department_1.add_student(student_2022_department_1)\n",
    "\n",
    "# Add departments to academic sessions\n",
    "session_2022.add_department(department_1)\n",
    "session_2022.add_department(department_2)\n",
    "\n",
    "# Add academic sessions to the overall database\n",
    "learning_database.append(session_2022)\n",
    "learning_database.append(session_2023)\n",
    "learning_database.append(session_2024)\n",
    "learning_database.append(session_2025)\n",
    "\n",
    "# Accessing data example:\n",
    "print(\"STUDENT Name in 2022, Department 1, ID 1:\", learning_database[0].departments_list[0].students_list[0].student_name)\n",
    "print(\"Maths Marks in 2022, Department 1, ID 1:\", learning_database[0].departments_list[0].students_list[0].subject_marks['Maths'])\n"
   ]
  },
  {
   "cell_type": "code",
   "execution_count": 10,
   "id": "5dda73d5-bc3f-4cb7-873a-17b24c80f1e6",
   "metadata": {},
   "outputs": [
    {
     "name": "stdout",
     "output_type": "stream",
     "text": [
      "Modified DataFrame:\n",
      "           x         y         z         p         q         r    s\n",
      "0   1.546441  1.856769  1.240104  1.674169  1.933629  8.251112  GT8\n",
      "1   1.259143  1.712618  1.362062  1.638708  1.445280  7.417810  LT8\n",
      "2   1.010227  1.190712  1.301164  1.965230  1.242804  6.710136  LT8\n",
      "3   1.688097  1.711961  1.483205  1.099862  1.402892  7.386016  LT8\n",
      "4   1.171004  1.261370  1.789237  1.199238  1.731526  7.152374  LT8\n",
      "5   1.765291  1.364975  1.953523  1.506646  1.702128  8.292563  GT8\n",
      "6   1.743734  1.123079  1.483912  1.959431  1.949985  8.260141  GT8\n",
      "7   1.340564  1.329647  1.585643  1.290112  1.473397  7.019363  LT8\n",
      "8   1.810692  1.326200  1.007336  1.098786  1.910026  7.153040  LT8\n",
      "9   1.650443  1.155425  1.494828  1.401758  1.076796  6.779250  LT8\n",
      "10  1.382568  1.505027  1.562177  1.665713  1.952136  8.067621  GT8\n",
      "11  1.939491  1.814317  1.234439  1.022141  1.696943  7.707331  LT8\n",
      "12  1.757011  1.940241  1.382252  1.734689  1.992897  8.807089  GT8\n",
      "13  1.383933  1.866730  1.778305  1.249550  1.560851  7.839369  LT8\n",
      "14  1.491109  1.479584  1.991255  1.072421  1.226174  7.260542  LT8\n",
      "15  1.626210  1.265449  1.292396  1.461974  1.703481  7.349509  LT8\n",
      "16  1.362282  1.553773  1.514217  1.772507  1.617880  7.820658  LT8\n",
      "17  1.323096  1.004572  1.292756  1.365096  1.807032  6.792551  LT8\n",
      "18  1.647870  1.551804  1.928830  1.654265  1.952845  8.735614  GT8\n",
      "19  1.680485  1.523867  1.820352  1.472729  1.369955  7.867388  LT8\n",
      "\n",
      "Number of rows where 's' is 'LT8': 14\n",
      "Standard deviation of 'r' for rows where 's' is 'LT8': 0.3993927956637866\n",
      "Standard deviation of 'r' for rows where 's' is 'GT8': 0.2973453362966472\n"
     ]
    }
   ],
   "source": [
    "#11\n",
    "import numpy as np\n",
    "import pandas as pd\n",
    "\n",
    "# Generate a 20x5 matrix with random numbers drawn uniformly from the range [1, 2)\n",
    "custom_matrix = np.random.uniform(1, 2, size=(20, 5))\n",
    "\n",
    "# Create a DataFrame from the matrix with column names \"x\", \"y\", \"z\", \"p\", \"q\"\n",
    "custom_df = pd.DataFrame(custom_matrix, columns=['x', 'y', 'z', 'p', 'q'])\n",
    "\n",
    "# Add a new column \"r\" which is the sum of columns \"x\", \"y\", \"z\", \"p\", \"q\"\n",
    "custom_df['r'] = custom_df.sum(axis=1)\n",
    "\n",
    "# Create a column \"s\" with values \"LT8\" if \"r\" is less than 8, and \"GT8\" otherwise\n",
    "custom_df['s'] = np.where(custom_df['r'] < 8, 'LT8', 'GT8')\n",
    "\n",
    "# Find the number of rows where the value in column \"s\" is \"LT8\"\n",
    "lt8_count_custom = (custom_df['s'] == 'LT8').sum()\n",
    "\n",
    "# Find the standard deviation of column \"r\" for rows where \"s\" is \"LT8\" and \"GT8\" respectively\n",
    "std_lt8_custom = custom_df.loc[custom_df['s'] == 'LT8', 'r'].std()\n",
    "std_gt8_custom = custom_df.loc[custom_df['s'] == 'GT8', 'r'].std()\n",
    "\n",
    "# Display the modified DataFrame\n",
    "print(\"Modified DataFrame:\")\n",
    "print(custom_df)\n",
    "\n",
    "# Display the results\n",
    "print(\"\\nNumber of rows where 's' is 'LT8':\", lt8_count_custom)\n",
    "print(\"Standard deviation of 'r' for rows where 's' is 'LT8':\", std_lt8_custom)\n",
    "print(\"Standard deviation of 'r' for rows where 's' is 'GT8':\", std_gt8_custom)\n",
    "\n"
   ]
  },
  {
   "cell_type": "code",
   "execution_count": 11,
   "id": "41399cff-b0f1-4d16-b353-b5a1781f7ef4",
   "metadata": {},
   "outputs": [
    {
     "name": "stdout",
     "output_type": "stream",
     "text": [
      "Custom Array 1: [1 2 3 4 5]\n",
      "Custom Result 1: [ 3  6  9 12 15]\n",
      "\n",
      "Custom Array 2D:\n",
      "[[1 2 3]\n",
      " [4 5 6]]\n",
      "\n",
      "Custom Array 1D: [10 20 30]\n",
      "Custom Result 2:\n",
      "[[11 22 33]\n",
      " [14 25 36]]\n"
     ]
    }
   ],
   "source": [
    "#12\n",
    "import numpy as np\n",
    "\n",
    "# Example 1: Broadcasting a scalar to an array\n",
    "custom_scalar = 3\n",
    "custom_array_1 = np.array([1, 2, 3, 4, 5])\n",
    "\n",
    "custom_result_1 = custom_scalar * custom_array_1\n",
    "\n",
    "print(\"Custom Array 1:\", custom_array_1)\n",
    "print(\"Custom Result 1:\", custom_result_1)\n",
    "\n",
    "# Example 2: Broadcasting a 1D array to a 2D array\n",
    "custom_array_2d = np.array([[1, 2, 3], [4, 5, 6]])\n",
    "\n",
    "custom_array_1d = np.array([10, 20, 30])\n",
    "\n",
    "custom_result_2 = custom_array_2d + custom_array_1d\n",
    "\n",
    "print(\"\\nCustom Array 2D:\")\n",
    "print(custom_array_2d)\n",
    "print(\"\\nCustom Array 1D:\", custom_array_1d)\n",
    "print(\"Custom Result 2:\")\n",
    "print(custom_result_2)\n"
   ]
  }
 ],
 "metadata": {
  "kernelspec": {
   "display_name": "Python 3 (ipykernel)",
   "language": "python",
   "name": "python3"
  },
  "language_info": {
   "codemirror_mode": {
    "name": "ipython",
    "version": 3
   },
   "file_extension": ".py",
   "mimetype": "text/x-python",
   "name": "python",
   "nbconvert_exporter": "python",
   "pygments_lexer": "ipython3",
   "version": "3.12.0"
  }
 },
 "nbformat": 4,
 "nbformat_minor": 5
}
